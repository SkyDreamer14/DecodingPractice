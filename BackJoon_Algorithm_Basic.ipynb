{
 "cells": [
  {
   "cell_type": "markdown",
   "metadata": {},
   "source": [
    "# CodePlus Algorithm Basic - 1/2"
   ]
  },
  {
   "cell_type": "markdown",
   "metadata": {},
   "source": [
    "## 자료구조 1"
   ]
  },
  {
   "cell_type": "code",
   "execution_count": null,
   "metadata": {},
   "outputs": [],
   "source": [
    "# 스택 (Stack)\n",
    "# 10828\n",
    "import sys\n",
    "\n",
    "n = int(sys.stdin.readline())\n",
    "stack = []\n",
    "\n",
    "for i in range(n):\n",
    "    comd = sys.stdin.readline().split()\n",
    "    if comd[0] == 'push':\n",
    "        stack.append(comd[1])\n",
    "    elif comd == 'pop':\n",
    "        if len(stack) == 0:\n",
    "            print(-1)\n",
    "        else:\n",
    "            print(stack.pop())\n",
    "    elif comd == 'size':\n",
    "        print(len(stack))\n",
    "    elif comd == 'empty':\n",
    "        if len(stack) == 0:\n",
    "            print(1)\n",
    "        else:\n",
    "            print(0)\n",
    "    elif comd == 'top':\n",
    "        if len(stack) == 0:\n",
    "            print(-1)\n",
    "        else:\n",
    "            print(stack[-1])"
   ]
  },
  {
   "cell_type": "code",
   "execution_count": 4,
   "metadata": {},
   "outputs": [
    {
     "name": "stdout",
     "output_type": "stream",
     "text": [
      "I ma a tneduts "
     ]
    }
   ],
   "source": [
    "# 9093 (1)\n",
    "t = int(input())\n",
    "\n",
    "for _ in range(t):\n",
    "    arr = list(input().split())\n",
    "\n",
    "    for s in arr:\n",
    "        print(s[::-1], end=' ')\n"
   ]
  },
  {
   "cell_type": "code",
   "execution_count": 8,
   "metadata": {},
   "outputs": [
    {
     "name": "stdout",
     "output_type": "stream",
     "text": [
      "I ma tneduts \n"
     ]
    }
   ],
   "source": [
    "# 9093 (2)\n",
    "t = int(input())\n",
    "\n",
    "for _ in range(t):\n",
    "    arr = list(input().split())\n",
    "\n",
    "    for s in arr:\n",
    "        print(s[::-1], end=' ')"
   ]
  },
  {
   "cell_type": "code",
   "execution_count": 13,
   "metadata": {},
   "outputs": [
    {
     "name": "stdout",
     "output_type": "stream",
     "text": [
      "NO\n",
      "YES\n"
     ]
    }
   ],
   "source": [
    "# 9012 (1)\n",
    "t = int(input())\n",
    "\n",
    "for _ in range(t):\n",
    "    stk = []\n",
    "    s = input()\n",
    "    isVPS = True\n",
    "\n",
    "    for ch in s:\n",
    "        if ch == '(':\n",
    "            stk.append(ch)\n",
    "        if ch == ')':\n",
    "            if stk:\n",
    "                stk.pop()\n",
    "            elif not stk:\n",
    "                isVPS = False\n",
    "                break\n",
    "    if not stk and isVPS:\n",
    "        print('YES')\n",
    "    elif stk or not isVPS:\n",
    "        print('NO')"
   ]
  },
  {
   "cell_type": "code",
   "execution_count": 14,
   "metadata": {},
   "outputs": [
    {
     "name": "stdout",
     "output_type": "stream",
     "text": [
      "YES\n",
      "NO\n"
     ]
    }
   ],
   "source": [
    "# 9012 (2)\n",
    "t = int(input())\n",
    "\n",
    "for _ in range(t):\n",
    "    stk = []\n",
    "    s = input()\n",
    "    isVPS = True\n",
    "\n",
    "    for ch in s:\n",
    "        if ch=='(':\n",
    "            stk.append('(')\n",
    "        if ch==')':\n",
    "            if stk:\n",
    "                stk.pop()\n",
    "            elif not stk:\n",
    "                isVPS = False\n",
    "                break\n",
    "    if not stk and isVPS:\n",
    "        print('YES')\n",
    "    elif stk or not isVPS:\n",
    "        print('NO')"
   ]
  },
  {
   "cell_type": "markdown",
   "metadata": {},
   "source": [
    "## 1874\n",
    "### 스택 수열 문제\n",
    "스택 (stack)은 기본적인 자료구조 중 하나로, 컴퓨터 프로그램을 작성할 때 자주 이용되는 개념이다. 스택은 자료를 넣는 (push) 입구와 자료를 뽑는 (pop) 입구가 같아 제일 나중에 들어간 자료가 제일 먼저 나오는 (LIFO, Last in First out) 특성을 가지고 있다.\n",
    "\n",
    "1부터 n까지의 수를 스택에 넣었다가 뽑아 늘어놓음으로써, 하나의 수열을 만들 수 있다. 이때, 스택에 push하는 순서는 반드시 오름차순을 지키도록 한다고 하자. 임의의 수열이 주어졌을 때 스택을 이용해 그 수열을 만들 수 있는지 없는지, 있다면 어떤 순서로 push와 pop 연산을 수행해야 하는지를 알아낼 수 있다. 이를 계산하는 프로그램을 작성하라.\n",
    "### 입력\n",
    "첫 줄에 n (1 ≤ n ≤ 100,000)이 주어진다. 둘째 줄부터 n개의 줄에는 수열을 이루는 1이상 n이하의 정수가 하나씩 순서대로 주어진다. 물론 같은 정수가 두 번 나오는 일은 없다.\n",
    "### 출력\n",
    "입력된 수열을 만들기 위해 필요한 연산을 한 줄에 한 개씩 출력한다. push연산은 +로, pop 연산은 -로 표현하도록 한다. 불가능한 경우 NO를 출력한다."
   ]
  },
  {
   "cell_type": "code",
   "execution_count": 10,
   "metadata": {},
   "outputs": [
    {
     "name": "stdout",
     "output_type": "stream",
     "text": [
      "+\n",
      "+\n",
      "+\n",
      "+\n",
      "-\n",
      "-\n",
      "+\n",
      "+\n",
      "-\n",
      "+\n",
      "+\n",
      "-\n",
      "-\n",
      "-\n",
      "-\n",
      "-\n"
     ]
    }
   ],
   "source": [
    "# 1874\n",
    "count = 1\n",
    "temp = True\n",
    "stack = []\n",
    "op = []\n",
    "\n",
    "n = int(input())\n",
    "for i in range(n):\n",
    "    num = int(input())\n",
    "    while count <= num:\n",
    "        stack.append(count)\n",
    "        op.append('+')\n",
    "        count += 1\n",
    "    \n",
    "    if stack[-1] == num:\n",
    "        stack.pop()\n",
    "        op.append('-')\n",
    "    else:\n",
    "        temp = False\n",
    "        break\n",
    "\n",
    "if temp == False:\n",
    "    print(\"No\")\n",
    "else:\n",
    "    for i in op:\n",
    "        print(i)"
   ]
  },
  {
   "cell_type": "markdown",
   "metadata": {},
   "source": [
    "## 1406\n",
    "### 에디터"
   ]
  },
  {
   "cell_type": "code",
   "execution_count": 5,
   "metadata": {},
   "outputs": [
    {
     "name": "stdout",
     "output_type": "stream",
     "text": [
      "abcdyx\n"
     ]
    }
   ],
   "source": [
    "from sys import stdin\n",
    "\n",
    "left = list(input())\n",
    "right = []\n",
    "\n",
    "for _ in range(int(input())):\n",
    "    command = list(input().split())\n",
    "    if command[0] == 'L' and left:\n",
    "        right.append(left.pop())\n",
    "    elif command[0] == 'D' and right:\n",
    "        left.append(right.pop())\n",
    "    elif command[0] == 'B' and left:\n",
    "        left.pop()\n",
    "    elif command[0] == 'P':\n",
    "        left.append(command[1])\n",
    "\n",
    "answer = left + right[::-1]\n",
    "print(''.join(answer))"
   ]
  },
  {
   "cell_type": "markdown",
   "metadata": {},
   "source": [
    "## 10845\n",
    "### 큐"
   ]
  },
  {
   "cell_type": "code",
   "execution_count": 7,
   "metadata": {},
   "outputs": [
    {
     "name": "stdout",
     "output_type": "stream",
     "text": [
      "1\n",
      "2\n",
      "2\n",
      "0\n",
      "1\n",
      "2\n",
      "-1\n",
      "0\n",
      "1\n",
      "1\n",
      "-1\n",
      "0\n"
     ]
    }
   ],
   "source": [
    "import sys\n",
    "\n",
    "n = int(input())\n",
    "q = [] \n",
    "\n",
    "for _ in range(n):\n",
    "    command = list(input().split())\n",
    "    if command[0] == 'push':\n",
    "        q.insert(0, command[1])\n",
    "    elif command[0] == 'pop':\n",
    "        if len(q)==0: print(-1)\n",
    "        else: print(q.pop())\n",
    "    elif command[0] == 'size':\n",
    "        print(len(q))\n",
    "    elif command[0] == 'empty':\n",
    "        if len(q) == 0: print('1')\n",
    "        else: print('0')\n",
    "    elif command[0] == 'front':\n",
    "        if len(q) == 0: print('-1')\n",
    "        else: print(q[len(q) - 1])\n",
    "    elif command[0] == 'back':\n",
    "        if len(q) == 0: print('-1')\n",
    "        else: print(q[0])"
   ]
  },
  {
   "cell_type": "markdown",
   "metadata": {},
   "source": [
    "## 1158\n",
    "### 요세푸스 문제"
   ]
  },
  {
   "cell_type": "code",
   "execution_count": 12,
   "metadata": {},
   "outputs": [
    {
     "name": "stdout",
     "output_type": "stream",
     "text": [
      "<3,6,2,7,5,1,4>\n"
     ]
    }
   ],
   "source": [
    "n, k = map(int, input().split())\n",
    "arr = [i for i in range(1,n+1)]\n",
    "sol = []\n",
    "i = 0\n",
    "while arr:\n",
    "    i = (i+k-1)%len(arr)\n",
    "    sol.append(str(arr.pop(i)))\n",
    "print(\"<\",', '.join(sol),\">\", sep=\"\")"
   ]
  },
  {
   "cell_type": "markdown",
   "metadata": {},
   "source": [
    "## 10866\n",
    "### 덱"
   ]
  },
  {
   "cell_type": "code",
   "execution_count": 15,
   "metadata": {},
   "outputs": [
    {
     "name": "stdout",
     "output_type": "stream",
     "text": [
      "-1\n",
      "-1\n",
      "2\n",
      "1\n",
      "-1\n",
      "-1\n",
      "-1\n",
      "2\n",
      "1\n",
      "-1\n",
      "1\n",
      "-1\n"
     ]
    }
   ],
   "source": [
    "from collections import deque\n",
    "\n",
    "n = int(input())\n",
    "arr = deque()\n",
    "\n",
    "for i in range(n):\n",
    "    command = list(input().split())\n",
    "    if command[0]==\"push_front\":\n",
    "        arr.appendleft(command[1])\n",
    "    elif command[0]==\"push_back\":\n",
    "        arr.append(command[1])\n",
    "    elif command[0]==\"pop_front\":\n",
    "        if arr:\n",
    "            print(-1)\n",
    "        else:\n",
    "            print(arr.popleft())\n",
    "    elif command[0]==\"pop_back\":\n",
    "        if arr:\n",
    "            print(-1)\n",
    "        else:\n",
    "            print(arr.pop())\n",
    "    elif command[0]==\"size\":\n",
    "        print(len(arr))\n",
    "    elif command[0]==\"empty\":\n",
    "        if arr:\n",
    "            print(1)\n",
    "        else:\n",
    "            print(0)\n",
    "    elif command[0]==\"front\":\n",
    "        if arr:\n",
    "            print(-1)\n",
    "        else:\n",
    "            print(arr[0])\n",
    "    elif command[0]==\"back\":\n",
    "        if arr:\n",
    "            print(-1)\n",
    "        else:\n",
    "            print(arr[-1])\n"
   ]
  },
  {
   "cell_type": "markdown",
   "metadata": {},
   "source": [
    "# 자료구조1 (연습)"
   ]
  },
  {
   "cell_type": "markdown",
   "metadata": {},
   "source": [
    "## 17413\n",
    "### 단어 뒤집기2"
   ]
  },
  {
   "cell_type": "code",
   "execution_count": 33,
   "metadata": {},
   "outputs": [
    {
     "name": "stdout",
     "output_type": "stream",
     "text": [
      "None\n"
     ]
    }
   ],
   "source": [
    "s = input() # 받기\n",
    "arr = [] # 원소 저장\n",
    "ignoreFlag = False # 무시할 여부\n",
    "temp = '' # 임시 저장\n",
    "\n",
    "for c in s: # 받은 원소 하나씩 살펴보기 \n",
    "    if c == '<': # '<'가 시작되면 무시 가동 및 이전에 저장된 임시 단어 원소에 저장\n",
    "        ignoreFlag = True # 무시 여부에 체크\n",
    "        if temp: # 임시 단어가 있을 시\n",
    "            arr.extend(temp.split()) # 띄어쓰기 별로 따로 저장\n",
    "            temp = '' \n",
    "    elif c == '>' and ignoreFlag: # 무시가 작동되어 있고 '>'를 받았을 시 무시를 끈다 \n",
    "        ignoreFlag = False # 무시를 끈다\n",
    "        temp = '' # 임시 저장 변수 초기화\n",
    "    elif ignoreFlag == False:\n",
    "        temp += c\n",
    "if temp:\n",
    "    arr.append(temp.split())\n",
    "\n",
    "for a in arr:\n",
    "    print()\n",
    "    #print(reversed(arr))"
   ]
  },
  {
   "cell_type": "code",
   "execution_count": null,
   "metadata": {},
   "outputs": [],
   "source": [
    "import sys\n",
    "S = sys.stdin.readline().strip() + ' ' # 마지막에 공백을 더해주자\n",
    "stack = [] # 저장해줄 스택\n",
    "result = '' # 결과물 출력\n",
    "cnt = 0 # 괄호 안에 있는지 여부\n",
    "for i in S : # 받은 문자열 찾아보자\n",
    "    if i == '<' : # <를 만나면\n",
    "        cnt = 1 # 지금 괄호 안에 있음 표시\n",
    "        for _ in range(len(stack)): #괄호 만나기 이전 stack 애들 비워주고 다 뒤집어서 더해!\n",
    "            result += stack.pop()\n",
    "    stack.append(i)\n",
    "    \n",
    "    if i == '>' : # >를 만나면\n",
    "        cnt = 0 # 지금 괄호 빠져 나왔음 표시\n",
    "        for _ in range(len(stack)): # 괄호 안에 있는 애들은 뒤집지 말고 더해!\n",
    "            result += stack.pop(0)\n",
    "\n",
    "    if i == ' ' and cnt == 0: # 공백을 만나고 괄호 밖에 있다면\n",
    "        stack.pop() # 들어간 공백 뺴주고\n",
    "        for _ in range(len(stack)): # 뒤집어서 더해!\n",
    "            result += stack.pop()\n",
    "        result += ' ' # 마지막에 공백 살려주기\n",
    "print(result)"
   ]
  },
  {
   "cell_type": "markdown",
   "metadata": {},
   "source": [
    "## 10799\n",
    "### 쇠막대기\n",
    "Stack을 활용한 카운팅 방식"
   ]
  },
  {
   "cell_type": "code",
   "execution_count": 4,
   "metadata": {},
   "outputs": [
    {
     "name": "stdout",
     "output_type": "stream",
     "text": [
      "24\n"
     ]
    }
   ],
   "source": [
    "arr = input()\n",
    "stk = []\n",
    "cnt = 0\n",
    "\n",
    "for i in range(len(arr)):\n",
    "    if arr[i] == '(':\n",
    "        stk.append('(')\n",
    "    else:\n",
    "        if arr[i-1] == '(':\n",
    "            stk.pop()\n",
    "            cnt += len(stk)\n",
    "        else:\n",
    "            stk.pop()\n",
    "            cnt += 1\n",
    "            \n",
    "print(cnt)"
   ]
  },
  {
   "cell_type": "markdown",
   "metadata": {},
   "source": [
    "## 17298\n",
    "### 오큰수"
   ]
  },
  {
   "cell_type": "code",
   "execution_count": 13,
   "metadata": {},
   "outputs": [
    {
     "name": "stdout",
     "output_type": "stream",
     "text": [
      "-1 8 8 -1 "
     ]
    }
   ],
   "source": [
    "n = int(input())\n",
    "arr = list(map(int, input().split()))\n",
    "\n",
    "for i in range(n):\n",
    "    for j in range(i+1, n):\n",
    "        if arr[i] < arr[j]:\n",
    "            print(arr[j], end=' ')\n",
    "            break\n",
    "        if j == n-1:\n",
    "            print(-1, end=' ')\n",
    "\n",
    "print(-1, end=' ')"
   ]
  },
  {
   "cell_type": "code",
   "execution_count": null,
   "metadata": {},
   "outputs": [],
   "source": []
  },
  {
   "cell_type": "code",
   "execution_count": null,
   "metadata": {},
   "outputs": [],
   "source": []
  },
  {
   "cell_type": "code",
   "execution_count": null,
   "metadata": {},
   "outputs": [],
   "source": []
  },
  {
   "cell_type": "code",
   "execution_count": null,
   "metadata": {},
   "outputs": [],
   "source": []
  },
  {
   "cell_type": "code",
   "execution_count": null,
   "metadata": {},
   "outputs": [],
   "source": []
  },
  {
   "cell_type": "code",
   "execution_count": null,
   "metadata": {},
   "outputs": [],
   "source": []
  },
  {
   "cell_type": "code",
   "execution_count": null,
   "metadata": {},
   "outputs": [],
   "source": []
  },
  {
   "cell_type": "code",
   "execution_count": null,
   "metadata": {},
   "outputs": [],
   "source": []
  },
  {
   "cell_type": "code",
   "execution_count": null,
   "metadata": {},
   "outputs": [],
   "source": []
  },
  {
   "cell_type": "code",
   "execution_count": null,
   "metadata": {},
   "outputs": [],
   "source": []
  },
  {
   "cell_type": "code",
   "execution_count": null,
   "metadata": {},
   "outputs": [],
   "source": []
  }
 ],
 "metadata": {
  "kernelspec": {
   "display_name": "Python 3",
   "language": "python",
   "name": "python3"
  },
  "language_info": {
   "codemirror_mode": {
    "name": "ipython",
    "version": 3
   },
   "file_extension": ".py",
   "mimetype": "text/x-python",
   "name": "python",
   "nbconvert_exporter": "python",
   "pygments_lexer": "ipython3",
   "version": "3.11.5"
  }
 },
 "nbformat": 4,
 "nbformat_minor": 2
}
