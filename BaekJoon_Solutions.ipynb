{
 "cells": [
  {
   "cell_type": "markdown",
   "metadata": {},
   "source": [
    "### 2558번 (입출력 및 사칙연산)"
   ]
  },
  {
   "cell_type": "code",
   "execution_count": 4,
   "metadata": {},
   "outputs": [
    {
     "name": "stdout",
     "output_type": "stream",
     "text": [
      "2760\n",
      "2415\n",
      "2070\n",
      "233910\n"
     ]
    }
   ],
   "source": [
    "a = int(input())\n",
    "b = input()\n",
    "\n",
    "print(a*int(b[2]))\n",
    "print(a*int(b[1]))\n",
    "print(a*int(b[0]))\n",
    "print(a*int(b))"
   ]
  },
  {
   "cell_type": "code",
   "execution_count": 2,
   "metadata": {},
   "outputs": [
    {
     "name": "stdout",
     "output_type": "stream",
     "text": [
      "2760\n",
      "2415\n",
      "2070\n",
      "233910\n"
     ]
    }
   ],
   "source": [
    "a = int(input())\n",
    "b = input()\n",
    "\n",
    "for i in range(3,0,-1):\n",
    "    print(a*int(b[i-1]))\n",
    "\n",
    "print(a*int(b))"
   ]
  },
  {
   "cell_type": "markdown",
   "metadata": {},
   "source": [
    "### 9498번 (조건문)"
   ]
  },
  {
   "cell_type": "code",
   "execution_count": 8,
   "metadata": {},
   "outputs": [
    {
     "name": "stdout",
     "output_type": "stream",
     "text": [
      "B\n"
     ]
    }
   ],
   "source": [
    "a = int(input())\n",
    "\n",
    "if 90<=a<=100:\n",
    "    print('A')\n",
    "elif 80<=a<90:\n",
    "    print('B')\n",
    "elif 70<=a<80:\n",
    "    print('C')\n",
    "elif 60<=a<70:\n",
    "    print('D')\n",
    "else:\n",
    "    print('F')"
   ]
  },
  {
   "cell_type": "code",
   "execution_count": 7,
   "metadata": {},
   "outputs": [
    {
     "name": "stdout",
     "output_type": "stream",
     "text": [
      "C\n"
     ]
    }
   ],
   "source": [
    "a = int(input())\n",
    "\n",
    "if a>=90: print('A')\n",
    "elif a>=80: print('B')\n",
    "elif a>=70: print('C')\n",
    "elif a>=60: print('D')\n",
    "else: print('F')"
   ]
  },
  {
   "cell_type": "markdown",
   "metadata": {},
   "source": [
    "### 10950번 (조건문 2번)"
   ]
  },
  {
   "cell_type": "code",
   "execution_count": 11,
   "metadata": {},
   "outputs": [
    {
     "name": "stdout",
     "output_type": "stream",
     "text": [
      "3\n",
      "7\n",
      "11\n"
     ]
    }
   ],
   "source": [
    "a = int(input())\n",
    "\n",
    "for _ in range(a):\n",
    "    b,c = map(int, input().split())\n",
    "    print(b+c)"
   ]
  },
  {
   "cell_type": "markdown",
   "metadata": {},
   "source": [
    "### 10871번 (1차원 배열 2번))\n",
    "정수 N개로 이루어진 수열 A와 정수 X가 주어진다. 이때, A에서 X보다 작은 수를 모두 출력하는 프로그램을 작성하시오.  \n",
    "**[입력]**  \n",
    "첫째 줄에 N과 X가 주어진다. (1 ≤ N, X ≤ 10,000)\n",
    "둘째 줄에 수열 A를 이루는 정수 N개가 주어진다. 주어지는 정수는 모두 1보다 크거나 같고, 10,000보다 작거나 같은 정수이다.  \n",
    "**[출력]**  \n",
    "X보다 작은 수를 입력받은 순서대로 공백으로 구분해 출력한다. X보다 작은 수는 적어도 하나 존재한다.\n"
   ]
  },
  {
   "cell_type": "code",
   "execution_count": 15,
   "metadata": {},
   "outputs": [
    {
     "name": "stdout",
     "output_type": "stream",
     "text": [
      "2 1 "
     ]
    }
   ],
   "source": [
    "n, x = map(int, input().split())\n",
    "a = list(map(int, input().split()))\n",
    "for i in range(n):\n",
    "    if a[i] < x:\n",
    "        print(a[i], end = \" \")"
   ]
  },
  {
   "cell_type": "markdown",
   "metadata": {},
   "source": [
    "### 27866번 (문자열 1번)"
   ]
  },
  {
   "cell_type": "code",
   "execution_count": 3,
   "metadata": {},
   "outputs": [
    {
     "name": "stdout",
     "output_type": "stream",
     "text": [
      "U\n"
     ]
    }
   ],
   "source": [
    "s=input()\n",
    "i=int(input())\n",
    "print(s[i-1])"
   ]
  },
  {
   "cell_type": "markdown",
   "metadata": {},
   "source": [
    "### 2743번 (문자열 2번)"
   ]
  },
  {
   "cell_type": "code",
   "execution_count": 4,
   "metadata": {},
   "outputs": [
    {
     "name": "stdout",
     "output_type": "stream",
     "text": [
      "5\n"
     ]
    }
   ],
   "source": [
    "s=input()\n",
    "print(len(s))"
   ]
  },
  {
   "cell_type": "code",
   "execution_count": 5,
   "metadata": {},
   "outputs": [
    {
     "name": "stdout",
     "output_type": "stream",
     "text": [
      "15\n"
     ]
    }
   ],
   "source": [
    "print(len(input()))"
   ]
  },
  {
   "cell_type": "markdown",
   "metadata": {},
   "source": [
    "### 9086번 (문자열)"
   ]
  },
  {
   "cell_type": "code",
   "execution_count": 10,
   "metadata": {},
   "outputs": [
    {
     "name": "stdout",
     "output_type": "stream",
     "text": [
      "ka\n",
      "uy\n",
      "wn\n",
      "gd\n"
     ]
    }
   ],
   "source": [
    "x=int(input())\n",
    "for i in range(x):\n",
    "    a=input()\n",
    "    print(a[0]+a[-1])"
   ]
  },
  {
   "cell_type": "markdown",
   "metadata": {},
   "source": [
    "### 10818번 (1차원 배열)"
   ]
  },
  {
   "cell_type": "code",
   "execution_count": 12,
   "metadata": {},
   "outputs": [
    {
     "name": "stdout",
     "output_type": "stream",
     "text": [
      "10 50\n"
     ]
    }
   ],
   "source": [
    "cnt=int(input())\n",
    "a=list(map(int,input().split()))\n",
    "print(min(a), max(a))"
   ]
  },
  {
   "cell_type": "code",
   "execution_count": 13,
   "metadata": {},
   "outputs": [
    {
     "name": "stdout",
     "output_type": "stream",
     "text": [
      "10 50\n"
     ]
    }
   ],
   "source": [
    "cnt=int(input())\n",
    "numbers=list(map(int,input().split()))\n",
    "max=numbers[0]\n",
    "min=numbers[0]\n",
    "\n",
    "for i in numbers[1:]:\n",
    "    if i > max:\n",
    "        max = i\n",
    "    elif i < min:\n",
    "        min = i\n",
    "print(min, max)"
   ]
  },
  {
   "cell_type": "markdown",
   "metadata": {},
   "source": [
    "### 11382번 (입출력)"
   ]
  },
  {
   "cell_type": "code",
   "execution_count": 14,
   "metadata": {},
   "outputs": [
    {
     "name": "stdout",
     "output_type": "stream",
     "text": [
      "7931\n"
     ]
    }
   ],
   "source": [
    "a,b,c = map(int,input().split())\n",
    "print(a+b+c)"
   ]
  },
  {
   "cell_type": "markdown",
   "metadata": {},
   "source": [
    "### 10171번 (입출력)"
   ]
  },
  {
   "cell_type": "code",
   "execution_count": 5,
   "metadata": {},
   "outputs": [
    {
     "name": "stdout",
     "output_type": "stream",
     "text": [
      "\\    /\\\n",
      " )  ( ')\n",
      "(  /  )\n",
      " \\(__)|\n"
     ]
    }
   ],
   "source": [
    "print('\\\\    /\\\\')\n",
    "print(' )  ( \\')')\n",
    "print('(  /  )')\n",
    "print(' \\\\(__)|')"
   ]
  },
  {
   "cell_type": "markdown",
   "metadata": {},
   "source": [
    "### 2753번 (조건문))"
   ]
  },
  {
   "cell_type": "code",
   "execution_count": 14,
   "metadata": {},
   "outputs": [
    {
     "name": "stdout",
     "output_type": "stream",
     "text": [
      "1\n"
     ]
    }
   ],
   "source": [
    "y = int(input())\n",
    "if (y%4==0 and y%100!=0) or (y%400==0):\n",
    "    print(1)\n",
    "else:\n",
    "    print(0)"
   ]
  },
  {
   "cell_type": "code",
   "execution_count": 19,
   "metadata": {},
   "outputs": [
    {
     "name": "stdout",
     "output_type": "stream",
     "text": [
      "1\n"
     ]
    }
   ],
   "source": [
    "y = int(input())\n",
    "print(1) if((y%4==0 and y%100!=0) or (y%400==0)) else print(0)"
   ]
  },
  {
   "cell_type": "markdown",
   "metadata": {},
   "source": [
    "### 8393번 (조건문)"
   ]
  },
  {
   "cell_type": "code",
   "execution_count": 21,
   "metadata": {},
   "outputs": [
    {
     "name": "stdout",
     "output_type": "stream",
     "text": [
      "15\n"
     ]
    }
   ],
   "source": [
    "n = int(input())\n",
    "a = 0\n",
    "\n",
    "for i in range(n):\n",
    "    a+=i+1\n",
    "\n",
    "print(a)"
   ]
  },
  {
   "cell_type": "code",
   "execution_count": 22,
   "metadata": {},
   "outputs": [
    {
     "name": "stdout",
     "output_type": "stream",
     "text": [
      "15\n"
     ]
    }
   ],
   "source": [
    "# sum함수 이용한 한 줄 코드\n",
    "print(sum(range(1, int(input())+1)))"
   ]
  },
  {
   "cell_type": "markdown",
   "metadata": {},
   "source": [
    "### 2562번 (배열) *추후에 다시 풀기"
   ]
  },
  {
   "cell_type": "code",
   "execution_count": 24,
   "metadata": {},
   "outputs": [
    {
     "name": "stdout",
     "output_type": "stream",
     "text": [
      "90\n",
      "9\n"
     ]
    }
   ],
   "source": [
    "a = []\n",
    "for _ in range(9):\n",
    "    i = int(input())\n",
    "    a.append(i)\n",
    "\n",
    "print(max(a))\n",
    "print(a.index(max(a))+1)"
   ]
  },
  {
   "cell_type": "code",
   "execution_count": 27,
   "metadata": {},
   "outputs": [
    {
     "name": "stdout",
     "output_type": "stream",
     "text": [
      "90\n",
      "9\n"
     ]
    }
   ],
   "source": [
    "# 한줄 코드\n",
    "a = [int(input()) for _ in range(9)]\n",
    "\n",
    "print(max(a))\n",
    "print(a.index(max(a))+1)"
   ]
  },
  {
   "cell_type": "markdown",
   "metadata": {},
   "source": [
    "### 25304번 (반복문)"
   ]
  },
  {
   "cell_type": "code",
   "execution_count": 31,
   "metadata": {},
   "outputs": [
    {
     "name": "stdout",
     "output_type": "stream",
     "text": [
      "Yes\n"
     ]
    }
   ],
   "source": [
    "x = int(input())\n",
    "n = int(input())\n",
    "sum = 0\n",
    "for _ in range(n):\n",
    "    a, b = map(int, input().split())\n",
    "    sum += a*b\n",
    "\n",
    "if x == sum:\n",
    "    print('Yes')\n",
    "else:\n",
    "    print('No')"
   ]
  },
  {
   "cell_type": "markdown",
   "metadata": {},
   "source": [
    "### 11654번 (배열)"
   ]
  },
  {
   "cell_type": "code",
   "execution_count": 2,
   "metadata": {},
   "outputs": [
    {
     "name": "stdout",
     "output_type": "stream",
     "text": [
      "97\n"
     ]
    }
   ],
   "source": [
    "print(ord(input()))"
   ]
  },
  {
   "cell_type": "markdown",
   "metadata": {},
   "source": [
    "### 10172번 (입출력)"
   ]
  },
  {
   "cell_type": "code",
   "execution_count": 4,
   "metadata": {},
   "outputs": [
    {
     "name": "stdout",
     "output_type": "stream",
     "text": [
      "|\\_/|\n",
      "|q p|   /}\n",
      "( 0 )\"\"\"\\\n",
      "|\"^\"`    |\n",
      "||_/=\\\\__|\n"
     ]
    }
   ],
   "source": [
    "print('|\\\\_/|')\n",
    "print('|q p|   /}')\n",
    "print('( 0 )\\\"\\\"\\\"\\\\')\n",
    "print('|\\\"^\\\"`    |')\n",
    "print('||_/=\\\\\\\\__|')"
   ]
  },
  {
   "cell_type": "markdown",
   "metadata": {},
   "source": [
    "## 조건문"
   ]
  },
  {
   "cell_type": "code",
   "execution_count": 6,
   "metadata": {},
   "outputs": [
    {
     "name": "stdout",
     "output_type": "stream",
     "text": [
      "1\n"
     ]
    }
   ],
   "source": [
    "# 14681\n",
    "x = int(input())\n",
    "y = int(input())\n",
    "if x>0 and y>0:\n",
    "    print(1)\n",
    "elif x<0 and y>0:\n",
    "    print(2)\n",
    "elif x<0 and y<0:\n",
    "    print(3)\n",
    "else:\n",
    "    print(4)"
   ]
  },
  {
   "cell_type": "code",
   "execution_count": 13,
   "metadata": {},
   "outputs": [
    {
     "name": "stdout",
     "output_type": "stream",
     "text": [
      "23 25\n"
     ]
    }
   ],
   "source": [
    "# 2884번\n",
    "h, m = map(int, input().split())\n",
    "\n",
    "if h==0 and m<45:\n",
    "    h=23\n",
    "    m=60-(45-m)\n",
    "elif m<45:\n",
    "    h=h-1\n",
    "    m=60-(45-m)\n",
    "else:\n",
    "    m=m-45\n",
    "\n",
    "print(h,m)"
   ]
  },
  {
   "cell_type": "code",
   "execution_count": 23,
   "metadata": {},
   "outputs": [
    {
     "name": "stdout",
     "output_type": "stream",
     "text": [
      "4 10\n"
     ]
    }
   ],
   "source": [
    "# 2525 (1)\n",
    "h, m = map(int, input().split())\n",
    "x = int(input())\n",
    "\n",
    "# x를 분해해 추가되는 시간/분을 각각 정확히 구하기. \n",
    "# 추가하기\n",
    "# 23이나 60을 넘을 경우에만 조치를 취하기.\n",
    "# 이를 h,m에 적용하기 (1) 24를 넘는지 확인\n",
    "\n",
    "h1 = x//60\n",
    "m1 = x%60\n",
    "\n",
    "h=h+h1\n",
    "m=m+m1\n",
    "\n",
    "if m>60 and h+1>23:\n",
    "    h=h-23\n",
    "    m=m-60\n",
    "elif m>60 and h+1<23:\n",
    "    h+=1\n",
    "    m=m-60\n",
    "\n",
    "print(h,m)\n",
    "\n"
   ]
  },
  {
   "cell_type": "code",
   "execution_count": 24,
   "metadata": {},
   "outputs": [
    {
     "name": "stdout",
     "output_type": "stream",
     "text": [
      "0 30\n"
     ]
    }
   ],
   "source": [
    "# 2525 (2)\n",
    "h, m = map(int, input().split())\n",
    "x = int(input())\n",
    "\n",
    "h += x//60\n",
    "m += x%60\n",
    "\n",
    "if m>=60:\n",
    "    h+=1\n",
    "    m-=60\n",
    "if h>=24:\n",
    "    h-=24\n",
    "\n",
    "print(h,m)"
   ]
  },
  {
   "cell_type": "code",
   "execution_count": 27,
   "metadata": {},
   "outputs": [
    {
     "name": "stdout",
     "output_type": "stream",
     "text": [
      "1200\n"
     ]
    }
   ],
   "source": [
    "# 2480\n",
    "a,b,c = map(int, input().split())\n",
    "\n",
    "if a==b==c:\n",
    "    print(10000+a*1000)\n",
    "elif a!=b and a!=c and b!=c:\n",
    "    print(100*max(a,b,c))\n",
    "elif a==b or a==c:\n",
    "    print(1000+a*100)\n",
    "else:\n",
    "    print(1000+c*100)"
   ]
  },
  {
   "cell_type": "markdown",
   "metadata": {},
   "source": [
    "## 반복문"
   ]
  },
  {
   "cell_type": "code",
   "execution_count": 34,
   "metadata": {},
   "outputs": [
    {
     "name": "stdout",
     "output_type": "stream",
     "text": [
      "long long long long int\n"
     ]
    }
   ],
   "source": [
    "# 25314\n",
    "n = int(input())\n",
    "answer = 'int'\n",
    "\n",
    "for _ in range(n//4):\n",
    "    answer = 'long '+answer\n",
    "print(answer)"
   ]
  },
  {
   "cell_type": "code",
   "execution_count": 35,
   "metadata": {},
   "outputs": [
    {
     "name": "stdout",
     "output_type": "stream",
     "text": [
      "long long long long int\n"
     ]
    }
   ],
   "source": [
    "print(int(input())//4*'long '+'int')"
   ]
  },
  {
   "cell_type": "code",
   "execution_count": 2,
   "metadata": {},
   "outputs": [
    {
     "ename": "KeyboardInterrupt",
     "evalue": "",
     "output_type": "error",
     "traceback": [
      "\u001b[0;31m---------------------------------------------------------------------------\u001b[0m",
      "\u001b[0;31mKeyboardInterrupt\u001b[0m                         Traceback (most recent call last)",
      "Cell \u001b[0;32mIn[2], line 4\u001b[0m\n\u001b[1;32m      1\u001b[0m \u001b[38;5;66;03m# 15552\u001b[39;00m\n\u001b[1;32m      2\u001b[0m \u001b[38;5;28;01mimport\u001b[39;00m \u001b[38;5;21;01msys\u001b[39;00m\n\u001b[0;32m----> 4\u001b[0m n \u001b[38;5;241m=\u001b[39m \u001b[38;5;28mint\u001b[39m(\u001b[43msys\u001b[49m\u001b[38;5;241;43m.\u001b[39;49m\u001b[43mstdin\u001b[49m\u001b[38;5;241;43m.\u001b[39;49m\u001b[43mreadline\u001b[49m\u001b[43m(\u001b[49m\u001b[43m)\u001b[49m)\n\u001b[1;32m      5\u001b[0m \u001b[38;5;28;01mfor\u001b[39;00m _ \u001b[38;5;129;01min\u001b[39;00m \u001b[38;5;28mrange\u001b[39m(n):\n\u001b[1;32m      6\u001b[0m     a,b \u001b[38;5;241m=\u001b[39m \u001b[38;5;28mmap\u001b[39m(\u001b[38;5;28mint\u001b[39m, sys\u001b[38;5;241m.\u001b[39mstdin\u001b[38;5;241m.\u001b[39mreadline()\u001b[38;5;241m.\u001b[39msplit())\n",
      "\u001b[0;31mKeyboardInterrupt\u001b[0m: "
     ]
    }
   ],
   "source": [
    "# 15552\n",
    "import sys\n",
    "\n",
    "n = int(sys.stdin.readline())\n",
    "for _ in range(n):\n",
    "    a,b = map(int, sys.stdin.readline().split())\n",
    "    print(a+b)\n",
    "\n",
    "# input 대신 sys.stdin()을 사용하자. 훨씬 빠르고 메모리 효율적이다. (stdin: standard input)\n",
    "# 실제로 대다수의 문제에서 input()을 사용하면 오답이지만, stdin()을 사용하면 정답인 경우가 많다. "
   ]
  },
  {
   "cell_type": "code",
   "execution_count": 6,
   "metadata": {},
   "outputs": [
    {
     "name": "stdout",
     "output_type": "stream",
     "text": [
      "Case #1: 3\n",
      "Case #2: 5\n",
      "Case #3: 9\n"
     ]
    }
   ],
   "source": [
    "# 11021 (1)\n",
    "n = int(input())\n",
    "for i in range(n):\n",
    "    a,b = map(int, input().split())\n",
    "    print('Case #'+str(i+1)+':', a+b)"
   ]
  },
  {
   "cell_type": "code",
   "execution_count": 7,
   "metadata": {},
   "outputs": [
    {
     "name": "stdout",
     "output_type": "stream",
     "text": [
      "Case #0: 3\n",
      "Case #1: 57\n",
      "Case #2: 4\n"
     ]
    }
   ],
   "source": [
    "# 11021 (2)\n",
    "n = int(input())\n",
    "for i in range(n):\n",
    "    a,b = map(int, input().split())\n",
    "    print(f'Case #{i+1}: {a+b}')"
   ]
  },
  {
   "cell_type": "code",
   "execution_count": 5,
   "metadata": {},
   "outputs": [
    {
     "name": "stdout",
     "output_type": "stream",
     "text": [
      "Case #1: 1 + 2 = 3\n",
      "Case #2: 3 + 4 = 7\n",
      "Case #3: 5 + 6 = 11\n"
     ]
    }
   ],
   "source": [
    "# 11022\n",
    "n = int(input()) \n",
    "for i in range(n):\n",
    "    a,b=map(int, input().split())\n",
    "    print(f'Case #{i+1}: {a} + {b} = {a+b}')"
   ]
  },
  {
   "cell_type": "code",
   "execution_count": 2,
   "metadata": {},
   "outputs": [
    {
     "name": "stdout",
     "output_type": "stream",
     "text": [
      "*\n",
      "**\n",
      "***\n",
      "****\n",
      "*****\n"
     ]
    }
   ],
   "source": [
    "# 2438\n",
    "n = int(input())\n",
    "for i in range(1,n+1):\n",
    "    print('*'*i)"
   ]
  },
  {
   "cell_type": "code",
   "execution_count": 3,
   "metadata": {},
   "outputs": [
    {
     "name": "stdout",
     "output_type": "stream",
     "text": [
      "    *\n",
      "   **\n",
      "  ***\n",
      " ****\n",
      "*****\n"
     ]
    }
   ],
   "source": [
    "# 2439\n",
    "n = int(input())\n",
    "for i in range(1,n+1):\n",
    "    print(' '*(n-i)+'*'*(i))"
   ]
  },
  {
   "cell_type": "code",
   "execution_count": 12,
   "metadata": {},
   "outputs": [
    {
     "name": "stdout",
     "output_type": "stream",
     "text": [
      "18\n",
      "2\n"
     ]
    }
   ],
   "source": [
    "# 10952\n",
    "while 1:\n",
    "    a,b = map(int, input().split())\n",
    "    if a==0 and b==0:\n",
    "        break\n",
    "    else:\n",
    "        print(a+b)"
   ]
  },
  {
   "cell_type": "code",
   "execution_count": 14,
   "metadata": {},
   "outputs": [
    {
     "name": "stdout",
     "output_type": "stream",
     "text": [
      "3\n"
     ]
    }
   ],
   "source": [
    "# 10951\n",
    "while 1:\n",
    "    try:\n",
    "        a ,b = map(int, input().split())\n",
    "        print(a+b)\n",
    "    except:\n",
    "        break"
   ]
  },
  {
   "cell_type": "markdown",
   "metadata": {},
   "source": [
    "## 1차원 배열"
   ]
  },
  {
   "cell_type": "code",
   "execution_count": 17,
   "metadata": {},
   "outputs": [
    {
     "name": "stdout",
     "output_type": "stream",
     "text": [
      "3 3 0 6 6 "
     ]
    }
   ],
   "source": [
    "# 10810\n",
    "n, m = map(int, input().split())\n",
    "array = [0]*n\n",
    "\n",
    "for _ in range(m):\n",
    "    i,j,k = map(int, input().split())\n",
    "    for x in range(i,j+1):\n",
    "        array[x-1] = k\n",
    "\n",
    "for i in range(n):\n",
    "    print(array[i], end=' ')\n"
   ]
  },
  {
   "cell_type": "code",
   "execution_count": 19,
   "metadata": {},
   "outputs": [
    {
     "name": "stdout",
     "output_type": "stream",
     "text": [
      "1 4 5 2 3 6 7 8 9 10 "
     ]
    }
   ],
   "source": [
    "# 10813\n",
    "n, m = map(int, input().split())\n",
    "bucket = [i for i in range(1, n+1)]\n",
    "\n",
    "for _ in range(m):\n",
    "    i, j = map(int, input().split())\n",
    "    temp = bucket[i-1]\n",
    "    bucket[i-1] = bucket[j-1]\n",
    "    bucket[j-1] = temp\n",
    "\n",
    "for b in bucket:\n",
    "    print(b, end=' ')"
   ]
  },
  {
   "cell_type": "code",
   "execution_count": null,
   "metadata": {},
   "outputs": [],
   "source": [
    "# 5597\n",
    "students = [i for i in range(1,31)]\n",
    "\n",
    "for _ in range(28):\n",
    "    applied = int(input())\n",
    "    students.remove(applied)\n",
    "\n",
    "print(min(students))\n",
    "print(max(students))"
   ]
  },
  {
   "cell_type": "code",
   "execution_count": null,
   "metadata": {},
   "outputs": [],
   "source": [
    "# 3052 (1)\n",
    "a = [int(input)%42 for _ in range(10)]\n",
    "cnt = 0\n",
    "\n",
    "for i in range(9):\n",
    "    if a[i]==a[i+1]:\n",
    "        cnt+=1\n",
    "\n",
    "print(cnt)"
   ]
  },
  {
   "cell_type": "code",
   "execution_count": 1,
   "metadata": {},
   "outputs": [
    {
     "name": "stdout",
     "output_type": "stream",
     "text": [
      "9\n"
     ]
    }
   ],
   "source": [
    "# 3052 (2)\n",
    "arr = []\n",
    "for i in range(10):\n",
    "    a = int(input())\n",
    "    if a%42 not in arr:\n",
    "        arr.append(a%42)\n",
    "print(len(arr))"
   ]
  },
  {
   "cell_type": "code",
   "execution_count": null,
   "metadata": {},
   "outputs": [],
   "source": [
    "# 3053 (3)\n",
    "arr = []\n",
    "for _ in range(10):\n",
    "    a = int(input())\n",
    "    arr.append(a%42)\n",
    "print(len(set(arr)))"
   ]
  },
  {
   "cell_type": "code",
   "execution_count": null,
   "metadata": {},
   "outputs": [],
   "source": [
    "# 10811\n",
    "import sys\n",
    "\n",
    "n,m = map(int, sys.stdin.readline().split())\n",
    "for i in range(n):\n",
    "    arr[i][]\n",
    "\n",
    "for _ in range(m):\n",
    "    i, j = map(int, sys.stdin.readline().split())\n"
   ]
  },
  {
   "cell_type": "code",
   "execution_count": 11,
   "metadata": {},
   "outputs": [
    {
     "name": "stdout",
     "output_type": "stream",
     "text": [
      "75.25\n"
     ]
    }
   ],
   "source": [
    "# 1546\n",
    "n = int(input())\n",
    "scores = list(map(int, input().split()))\n",
    "m = max(scores)\n",
    "\n",
    "for i in range(n):\n",
    "    scores[i] = scores[i]/m*100\n",
    "\n",
    "print(sum(scores)/n)"
   ]
  },
  {
   "cell_type": "code",
   "execution_count": 8,
   "metadata": {},
   "outputs": [
    {
     "name": "stdout",
     "output_type": "stream",
     "text": [
      "3 2 1 4 6 5 7 "
     ]
    }
   ],
   "source": [
    "# 10811\n",
    "\"\"\"\n",
    "- 바구니: n개 (1,2, .. n)\n",
    "- 바구니의 순서를 바꿀 횟수: m개\n",
    "- 역순으로 바구니를 바꿀 범위: i, j\n",
    "\"\"\"\n",
    "\n",
    "n, m = map(int, input().split())\n",
    "arr = [i for i in range(1, n+1)]\n",
    "\n",
    "for x in range(m):\n",
    "    i, j = map(int, input().split())\n",
    "    temp = arr[i-1:j]\n",
    "    temp.reverse()\n",
    "    arr[i-1:j] = temp\n",
    "\n",
    "for i in range(n):\n",
    "    print(arr[i], end=' ')"
   ]
  },
  {
   "cell_type": "markdown",
   "metadata": {},
   "source": [
    "## 문자열"
   ]
  },
  {
   "cell_type": "code",
   "execution_count": 11,
   "metadata": {},
   "outputs": [
    {
     "name": "stdout",
     "output_type": "stream",
     "text": [
      "15\n"
     ]
    }
   ],
   "source": [
    "# 11720 (1)\n",
    "n = input()\n",
    "num = list(map(int, input()))\n",
    "\n",
    "print(sum(num))"
   ]
  },
  {
   "cell_type": "code",
   "execution_count": 10,
   "metadata": {},
   "outputs": [
    {
     "name": "stdout",
     "output_type": "stream",
     "text": [
      "15\n"
     ]
    }
   ],
   "source": [
    "# 11720 (2)\n",
    "n = int(input())\n",
    "num = input()\n",
    "total = 0\n",
    "for i in range(n):\n",
    "    total += int(num[i])\n",
    "print(total)"
   ]
  },
  {
   "cell_type": "code",
   "execution_count": 13,
   "metadata": {},
   "outputs": [
    {
     "name": "stdout",
     "output_type": "stream",
     "text": [
      "0 -1 -1 2 10 3 -1 6 4 18 -1 5 -1 15 9 -1 -1 -1 1 -1 11 7 -1 -1 -1 14 "
     ]
    }
   ],
   "source": [
    "# 10809 (1)\n",
    "s = input()\n",
    "c = 'abcdefghijklmnopqrstuvwxyz'\n",
    "for i in c:\n",
    "    if i in s:\n",
    "        print(s.index(i), end=' ')\n",
    "    else:\n",
    "        print(-1, end=' ')"
   ]
  },
  {
   "cell_type": "code",
   "execution_count": 12,
   "metadata": {},
   "outputs": [
    {
     "name": "stdout",
     "output_type": "stream",
     "text": [
      "1 9 -1 0 8 3 -1 -1 10 -1 -1 -1 -1 13 -1 -1 -1 7 2 -1 4 5 -1 -1 6 -1 "
     ]
    }
   ],
   "source": [
    "# 10809 (2)\n",
    "s =input()\n",
    "\n",
    "for x in 'abcdefghijklmnopqrstuvwxyz':\n",
    "    print(s.find(x), end=' ')"
   ]
  },
  {
   "cell_type": "code",
   "execution_count": 18,
   "metadata": {},
   "outputs": [
    {
     "name": "stdout",
     "output_type": "stream",
     "text": [
      "aaabbbccc/////hhhhhtttttppppp"
     ]
    }
   ],
   "source": [
    "# 2675 (1)\n",
    "import sys\n",
    "\n",
    "n = int(sys.stdin.readline())\n",
    "\n",
    "for i in range(n):\n",
    "    r, s = sys.stdin.readline().split()\n",
    "    for j in range(len(s)):\n",
    "        for k in range(int(r)):\n",
    "            print(s[j], end='')\n",
    "    print('\\n')"
   ]
  },
  {
   "cell_type": "code",
   "execution_count": 21,
   "metadata": {},
   "outputs": [
    {
     "name": "stdout",
     "output_type": "stream",
     "text": [
      "aabbcc\n",
      "rrrtttyyy\n"
     ]
    }
   ],
   "source": [
    "# 2675 (2)\n",
    "a = int(input())\n",
    "\n",
    "for i in range(a):\n",
    "    b,c = input().split()\n",
    "    [print(int(b)*c[i], end='') for i in range(len(c))]\n",
    "    print()"
   ]
  },
  {
   "cell_type": "code",
   "execution_count": 25,
   "metadata": {},
   "outputs": [
    {
     "name": "stdout",
     "output_type": "stream",
     "text": [
      "3\n"
     ]
    }
   ],
   "source": [
    "# 1152\n",
    "a = list(map(str, input().split()))\n",
    "print(len(a))"
   ]
  },
  {
   "cell_type": "code",
   "execution_count": 26,
   "metadata": {},
   "outputs": [
    {
     "name": "stdout",
     "output_type": "stream",
     "text": [
      "765\n"
     ]
    }
   ],
   "source": [
    "# 2908\n",
    "a,b = input().split()\n",
    "a = int(a[::-1]) # [::-1] : 역순\n",
    "b = int(b[::-1])\n",
    "\n",
    "print(a) if a > b else print(b) # 삼항 연산자 표현식 코드"
   ]
  },
  {
   "cell_type": "code",
   "execution_count": 4,
   "metadata": {},
   "outputs": [
    {
     "name": "stdout",
     "output_type": "stream",
     "text": [
      "38\n"
     ]
    }
   ],
   "source": [
    "# 5622\n",
    "arr = input()\n",
    "time = 0\n",
    "\n",
    "for s in arr:\n",
    "    if s in \"ABC\":\n",
    "        time += 3\n",
    "    elif s in \"DEF\":\n",
    "        time += 4\n",
    "    elif s in \"GHI\":\n",
    "        time += 5\n",
    "    elif s in \"JKL\":\n",
    "        time += 6\n",
    "    elif s in \"MNO\":\n",
    "        time += 7\n",
    "    elif s in \"PQRS\":\n",
    "        time += 8\n",
    "    elif s in \"TUV\":\n",
    "        time += 9\n",
    "    elif s in \"WXYZ\":\n",
    "        time += 10\n",
    "    elif s in \"\":\n",
    "        time += 2\n",
    "    else:\n",
    "        time += 11\n",
    "print(time)"
   ]
  },
  {
   "cell_type": "code",
   "execution_count": 5,
   "metadata": {},
   "outputs": [
    {
     "name": "stdout",
     "output_type": "stream",
     "text": [
      "Hi\n",
      "I'm\n",
      "Woochan\n",
      "\n",
      "\n"
     ]
    }
   ],
   "source": [
    "# 11718\n",
    "while 1:\n",
    "    try: \n",
    "        print(input())\n",
    "    except EOFError:\n",
    "        break"
   ]
  },
  {
   "cell_type": "markdown",
   "metadata": {},
   "source": [
    "## 심화1"
   ]
  },
  {
   "cell_type": "code",
   "execution_count": 1,
   "metadata": {},
   "outputs": [
    {
     "name": "stdout",
     "output_type": "stream",
     "text": [
      "         ,r'\"7\n",
      "r`-_   ,'  ,/\n",
      " \\. \". L_r'\n",
      "   `~\\/\n",
      "      |\n",
      "      |\n"
     ]
    }
   ],
   "source": [
    "# 25083\n",
    "print('         ,r\\'\\\"7')\n",
    "print('r`-_   ,\\'  ,/')\n",
    "print(' \\\\. \\\". L_r\\'')\n",
    "print('   `~\\\\/')\n",
    "print('      |')\n",
    "print('      |')"
   ]
  },
  {
   "cell_type": "code",
   "execution_count": 10,
   "metadata": {},
   "outputs": [
    {
     "name": "stdout",
     "output_type": "stream",
     "text": [
      "0\n"
     ]
    }
   ],
   "source": [
    "# 1463\n",
    "n = int(input())\n",
    "cnt = 0\n"
   ]
  },
  {
   "cell_type": "code",
   "execution_count": 3,
   "metadata": {},
   "outputs": [
    {
     "name": "stdout",
     "output_type": "stream",
     "text": [
      "0 0 1 1 1 7 "
     ]
    },
    {
     "data": {
      "text/plain": [
       "[None, None, None, None, None, None]"
      ]
     },
     "execution_count": 3,
     "metadata": {},
     "output_type": "execute_result"
    }
   ],
   "source": [
    "# 3003\n",
    "base = [1,1,2,2,2,8]\n",
    "arr = list(map(int, input().split()))\n",
    "\n",
    "[print(base[i]-arr[i], end=' ') for i in range(6)]"
   ]
  },
  {
   "cell_type": "code",
   "execution_count": 8,
   "metadata": {},
   "outputs": [
    {
     "name": "stdout",
     "output_type": "stream",
     "text": [
      "    *\n",
      "   ***\n",
      "  *****\n",
      " *******\n",
      "*********\n",
      " *******\n",
      "  *****\n",
      "   ***\n",
      "    *\n"
     ]
    }
   ],
   "source": [
    "# 2444\n",
    "n = int(input())\n",
    "\n",
    "for i in range(1,n+1):\n",
    "    print(\" \"*(n-i)+'*'*(2*i-1))\n",
    "for i in range(1, n):\n",
    "    print(\" \"*(i)+\"*\"*(2*(n-i)-1))"
   ]
  },
  {
   "cell_type": "code",
   "execution_count": 22,
   "metadata": {},
   "outputs": [
    {
     "name": "stdout",
     "output_type": "stream",
     "text": [
      "1\n"
     ]
    }
   ],
   "source": [
    "# 10988\n",
    "n = input()\n",
    "num1 = len(n)-1\n",
    "num = len(n)//2\n",
    "for i in range(num):\n",
    "    if n[i] != n[num1-i]:\n",
    "        print(0)\n",
    "        break\n",
    "    if i==num-1:\n",
    "        print(1)"
   ]
  },
  {
   "cell_type": "code",
   "execution_count": 18,
   "metadata": {},
   "outputs": [
    {
     "name": "stdout",
     "output_type": "stream",
     "text": [
      "1\n"
     ]
    }
   ],
   "source": [
    "word = list(str(input()))\n",
    "if list(reversed(word)) == word:\n",
    "    print(1)\n",
    "else:\n",
    "    print(0)"
   ]
  },
  {
   "cell_type": "code",
   "execution_count": 1,
   "metadata": {},
   "outputs": [
    {
     "name": "stdout",
     "output_type": "stream",
     "text": [
      "I\n"
     ]
    }
   ],
   "source": [
    "# 1157\n",
    "word = input().upper()\n",
    "word_set = list(set(word))\n",
    "lst = []\n",
    "\n",
    "for i in word_set:\n",
    "    lst.append(word.count(i))\n",
    "if lst.count(max(lst)) > 1:\n",
    "    print(\"?\")\n",
    "else:\n",
    "    print(word_set[lst.index(max(lst))])"
   ]
  },
  {
   "cell_type": "code",
   "execution_count": 10,
   "metadata": {},
   "outputs": [
    {
     "name": "stdout",
     "output_type": "stream",
     "text": [
      "3\n"
     ]
    }
   ],
   "source": [
    "# 2941\n",
    "croatia = ['c=', 'c-', 'dz=', 'd-', 'lj', 'nj', 's=', 'z=']\n",
    "s = input()\n",
    "\n",
    "for i in croatia:\n",
    "    s = s.replace(i,'*')\n",
    "\n",
    "print(len(s))"
   ]
  },
  {
   "cell_type": "code",
   "execution_count": null,
   "metadata": {},
   "outputs": [],
   "source": [
    "# 1316\n",
    "import sys\n",
    "\n",
    "n = int(sys.stdin.readline())\n",
    "cnt = n\n",
    "\n",
    "for _ in range(n):\n",
    "    a = sys.stdin.readline()\n",
    "    for i in range(len(a)-1):\n",
    "        if a[i]==a[i+1]:\n",
    "            continue\n",
    "        elif a[i] in a[i+1:]:\n",
    "            cnt -= 1\n",
    "            break\n",
    "\n",
    "print(cnt)"
   ]
  },
  {
   "cell_type": "code",
   "execution_count": null,
   "metadata": {},
   "outputs": [],
   "source": [
    "# 25206\n",
    "import sys\n",
    "grade_sum = 0\n",
    "num = 0\n",
    "\n",
    "for i in range(20):\n",
    "    a = [sys.stdin.readline().split]\n",
    "    if a[2] == P or a[2] == F:\n",
    "        continue\n",
    "    else:\n",
    "        if a[2] == 'A+':\n",
    "            num += 1\n",
    "            grade_sum += 4.5\n",
    "        elif a[2] == 'A0': \n",
    "            num += 1\n",
    "            grade_sum += 4\n",
    "        elif a[2] == 'B+': \n",
    "            num += 1\n",
    "            grade_sum += 3.5\n",
    "        elif a[2] == 'B0': \n",
    "            num += 1\n",
    "            grade_sum += 3\n",
    "        elif a[2] == 'C+': \n",
    "            num += 1\n",
    "            grade_sum += 2.5\n",
    "        elif a[2] == 'C0': \n",
    "            num += 1\n",
    "            grade_sum += 2\n",
    "        elif a[2] == 'D+': \n",
    "            num += 1\n",
    "            grade_sum += 1.5\n",
    "        elif a[2] == 'D0': \n",
    "            num += 1\n",
    "            grade_sum += 1\n",
    "        else:\n",
    "            num += 1\n",
    "\n",
    "print(grade_sum/num)"
   ]
  },
  {
   "cell_type": "code",
   "execution_count": null,
   "metadata": {},
   "outputs": [],
   "source": [
    "rating = ['A+', 'A0', 'B+', 'B0', 'C+', 'C0', 'D+', 'D0', 'F']\n",
    "grade = [4.5, 4.0, 3.5, 3.0, 2.5, 2.0, 1.5, 1.0, 0]\n",
    "\n",
    "total = 0\n",
    "result = 0\n",
    "for _ in range(20) :\n",
    "    s, p, g = input().split()\n",
    "    p = float(p)\n",
    "    if g != 'P' :\n",
    "        total += p\n",
    "        result += p * grade[rating.index(g)]\n",
    "\n",
    "print('%.6f' % (result / total))"
   ]
  },
  {
   "cell_type": "markdown",
   "metadata": {},
   "source": [
    "# 2차원 배열"
   ]
  },
  {
   "cell_type": "markdown",
   "metadata": {},
   "source": []
  },
  {
   "cell_type": "code",
   "execution_count": 2,
   "metadata": {},
   "outputs": [
    {
     "name": "stdout",
     "output_type": "stream",
     "text": [
      "5 5 5 \n",
      "7 7 7 \n",
      "9 9 9 \n"
     ]
    }
   ],
   "source": [
    "# 2738\n",
    "n, m = map(int, input().split())\n",
    "arr1, arr2 = [], []\n",
    "\n",
    "for _ in range(n):\n",
    "    row = list(map(int, input().split()))\n",
    "    arr1.append(row)\n",
    "\n",
    "for _ in range(n):\n",
    "    row = list(map(int, input().split()))\n",
    "    arr2.append(row)\n",
    "\n",
    "for i in range(n):\n",
    "    for j in range(m):\n",
    "        print(arr1[i][j] + arr2[i][j], end=' ')\n",
    "    print()"
   ]
  },
  {
   "cell_type": "code",
   "execution_count": null,
   "metadata": {},
   "outputs": [],
   "source": [
    "# 2566\n",
    "matrix = [list(map(int, input().split())) for _ in range(9)]\n",
    "max_i, max_j = 0, 0\n",
    "max_store = 0\n",
    "\n",
    "for i in range(9):\n",
    "    for j in range(9):\n",
    "        if matrix[i][j] >= max_store:\n",
    "            max_store = matrix[i][j]\n",
    "            max_i = i+1\n",
    "            max_j = j+1\n",
    "\n",
    "print(max_store)\n",
    "print(max_i, max_j)"
   ]
  },
  {
   "cell_type": "code",
   "execution_count": null,
   "metadata": {},
   "outputs": [],
   "source": [
    "# 10798\n",
    "arr = []\n",
    "\n",
    "for _ in range(5):\n",
    "    row = input().strip()\n",
    "    arr.append(row)\n",
    "\n",
    "for i in range(15):\n",
    "    for j in range(5):\n",
    "        if i < len(arr[j]):\n",
    "            print(arr[j][i], end='')"
   ]
  },
  {
   "cell_type": "code",
   "execution_count": 3,
   "metadata": {},
   "outputs": [
    {
     "name": "stdout",
     "output_type": "stream",
     "text": [
      "100\n"
     ]
    }
   ],
   "source": [
    "# 2563\n",
    "base = [[0]*100 for _ in range(100)]\n",
    "n = int(input())\n",
    "\n",
    "for _ in range(n):\n",
    "    y, x = map(int, input().split())\n",
    "    for i in range(x, x+10):\n",
    "        for j in range(y, y+10):\n",
    "            base[i][j] = 1\n",
    "\n",
    "result = 0\n",
    "for k in range(100):\n",
    "    result += base[k].count(1)\n",
    "\n",
    "print(result)"
   ]
  },
  {
   "cell_type": "markdown",
   "metadata": {},
   "source": [
    "# 일반 수학1"
   ]
  },
  {
   "cell_type": "code",
   "execution_count": 6,
   "metadata": {},
   "outputs": [
    {
     "name": "stdout",
     "output_type": "stream",
     "text": [
      "60466175\n"
     ]
    }
   ],
   "source": [
    "# 2745\n",
    "num_list = '0123456789ABCDEFGHIJKLMNOPQRSTUVWXYZ'\n",
    "\n",
    "n, b = input().split()\n",
    "sum = 0; i = 0\n",
    "num = len(n)\n",
    "\n",
    "for a in n:\n",
    "    sum += int(b) ** i * num_list.index(a)\n",
    "    i+=1\n",
    "print(sum)"
   ]
  },
  {
   "cell_type": "code",
   "execution_count": 4,
   "metadata": {},
   "outputs": [
    {
     "name": "stdout",
     "output_type": "stream",
     "text": [
      "60466175\n"
     ]
    }
   ],
   "source": [
    "# 2745 (1)\n",
    "num_list = \"0123456789ABCDEFGHIJKLMNOPQRSTUVWXYZ\"\n",
    "\n",
    "n, b = input().split()\n",
    "answer = 0\n",
    "for i, num in enumerate(n[::-1]):\n",
    "    answer += int(b) ** i * num_list.index(num)\n",
    "print(answer)"
   ]
  },
  {
   "cell_type": "code",
   "execution_count": null,
   "metadata": {},
   "outputs": [],
   "source": [
    "# 2745 (3)\n",
    "n, b = input().split()\n",
    "print(int(n, int(b)))"
   ]
  },
  {
   "cell_type": "code",
   "execution_count": 11,
   "metadata": {},
   "outputs": [
    {
     "name": "stdout",
     "output_type": "stream",
     "text": [
      "1778416\n"
     ]
    }
   ],
   "source": [
    "# 11005 재시도!!\n"
   ]
  },
  {
   "cell_type": "code",
   "execution_count": 12,
   "metadata": {},
   "outputs": [
    {
     "name": "stdout",
     "output_type": "stream",
     "text": [
      "ZZZZZ\n"
     ]
    }
   ],
   "source": [
    "\"\"\"N, B = map(int, input().split())\n",
    "s = ''\n",
    "arr = \"0123456789ABCDEFGHIJKLMNOPQRSTUVWXYZ\"\n",
    "\n",
    "while N:\n",
    "    s += str(arr[N%B])\n",
    "    N //= B\n",
    "\n",
    "print(s[::-1])\"\"\""
   ]
  },
  {
   "cell_type": "code",
   "execution_count": 18,
   "metadata": {},
   "outputs": [
    {
     "name": "stdout",
     "output_type": "stream",
     "text": [
      "4 2 0 4 \n",
      "1 0 0 0 \n",
      "7 1 1 4 \n"
     ]
    }
   ],
   "source": [
    "# 2720\n",
    "t = int(input())\n",
    "\n",
    "for i in range(t):\n",
    "    c = int(input())\n",
    "    arr = [0, 0, 0, 0]\n",
    "    \n",
    "    arr[0] = c//25\n",
    "    c = c%25\n",
    "    arr[1] = c//10\n",
    "    c = c%10\n",
    "    arr[2] = c//5\n",
    "    c = c%5\n",
    "    arr[3] = c\n",
    "    \n",
    "    for k in range(4):\n",
    "        print(arr[k], end=' ')\n",
    "    print()"
   ]
  },
  {
   "cell_type": "code",
   "execution_count": 3,
   "metadata": {},
   "outputs": [
    {
     "name": "stdout",
     "output_type": "stream",
     "text": [
      "1089\n"
     ]
    }
   ],
   "source": [
    "# 2903\n",
    "n = int(input())\n",
    "\n",
    "print((2**n+1)**2)"
   ]
  },
  {
   "cell_type": "code",
   "execution_count": 17,
   "metadata": {},
   "outputs": [
    {
     "name": "stdout",
     "output_type": "stream",
     "text": [
      "1\n"
     ]
    }
   ],
   "source": [
    "# 2292 \n",
    "# 역발상이 때로는 더 빠를 때가 있다. / 나눗셈을 해서 알아야 될 상황이라면, 1부터 n을 곱해가면서 찾으면 좋을 것 같다. \n",
    "\n",
    "num = int(input())\n",
    "numbox = 1\n",
    "cnt = 1\n",
    "\n",
    "while num > numbox:\n",
    "    numbox += 6 * cnt\n",
    "    cnt += 1\n",
    "print(cnt)"
   ]
  },
  {
   "cell_type": "code",
   "execution_count": 18,
   "metadata": {},
   "outputs": [
    {
     "name": "stdout",
     "output_type": "stream",
     "text": [
      "5\n"
     ]
    }
   ],
   "source": [
    "# 1193\n",
    "\n"
   ]
  },
  {
   "cell_type": "code",
   "execution_count": null,
   "metadata": {},
   "outputs": [],
   "source": []
  },
  {
   "cell_type": "code",
   "execution_count": null,
   "metadata": {},
   "outputs": [],
   "source": []
  },
  {
   "cell_type": "code",
   "execution_count": null,
   "metadata": {},
   "outputs": [],
   "source": []
  },
  {
   "cell_type": "code",
   "execution_count": null,
   "metadata": {},
   "outputs": [],
   "source": []
  },
  {
   "cell_type": "code",
   "execution_count": null,
   "metadata": {},
   "outputs": [],
   "source": []
  },
  {
   "cell_type": "code",
   "execution_count": null,
   "metadata": {},
   "outputs": [],
   "source": []
  },
  {
   "cell_type": "code",
   "execution_count": null,
   "metadata": {},
   "outputs": [],
   "source": []
  },
  {
   "cell_type": "code",
   "execution_count": null,
   "metadata": {},
   "outputs": [],
   "source": []
  },
  {
   "cell_type": "code",
   "execution_count": null,
   "metadata": {},
   "outputs": [],
   "source": []
  },
  {
   "cell_type": "code",
   "execution_count": null,
   "metadata": {},
   "outputs": [],
   "source": []
  },
  {
   "cell_type": "code",
   "execution_count": null,
   "metadata": {},
   "outputs": [],
   "source": []
  },
  {
   "cell_type": "code",
   "execution_count": null,
   "metadata": {},
   "outputs": [],
   "source": []
  },
  {
   "cell_type": "code",
   "execution_count": null,
   "metadata": {},
   "outputs": [],
   "source": []
  },
  {
   "cell_type": "code",
   "execution_count": null,
   "metadata": {},
   "outputs": [],
   "source": []
  },
  {
   "cell_type": "code",
   "execution_count": null,
   "metadata": {},
   "outputs": [],
   "source": []
  },
  {
   "cell_type": "code",
   "execution_count": null,
   "metadata": {},
   "outputs": [],
   "source": []
  },
  {
   "cell_type": "code",
   "execution_count": null,
   "metadata": {},
   "outputs": [],
   "source": []
  }
 ],
 "metadata": {
  "kernelspec": {
   "display_name": "Python 3",
   "language": "python",
   "name": "python3"
  },
  "language_info": {
   "codemirror_mode": {
    "name": "ipython",
    "version": 3
   },
   "file_extension": ".py",
   "mimetype": "text/x-python",
   "name": "python",
   "nbconvert_exporter": "python",
   "pygments_lexer": "ipython3",
   "version": "3.11.5"
  }
 },
 "nbformat": 4,
 "nbformat_minor": 2
}
